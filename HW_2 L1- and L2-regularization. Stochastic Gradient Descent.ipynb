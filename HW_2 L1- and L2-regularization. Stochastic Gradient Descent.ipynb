{
 "cells": [
  {
   "cell_type": "markdown",
   "id": "72f9e6db",
   "metadata": {},
   "source": [
    "### Задание 1"
   ]
  },
  {
   "cell_type": "markdown",
   "id": "bbb43c9b",
   "metadata": {},
   "source": [
    "#### Сгенерировать датасет при помощи sklearn.datasets.make_regression и обучить линейную модель при помощи градиентного и стохастического градиентного спуска. \n",
    "#### Нанести среднеквадратичную ошибку для обоих методов на один график, сделать выводы о разнице скорости сходимости каждого из методов."
   ]
  },
  {
   "cell_type": "code",
   "execution_count": 28,
   "id": "364fbfb5",
   "metadata": {},
   "outputs": [],
   "source": [
    "import numpy as np\n",
    "from sklearn import datasets\n",
    "import pandas as pd\n",
    "import matplotlib.pyplot as plt\n",
    "\n",
    "%matplotlib inline"
   ]
  },
  {
   "cell_type": "code",
   "execution_count": 2,
   "id": "d46a6e7e",
   "metadata": {},
   "outputs": [
    {
     "data": {
      "text/plain": [
       "array([16.74825823, 54.12963353,  5.19712837, 63.64302495, 93.62122462,\n",
       "       70.64757265, 87.09691237, 10.45678403,  3.15861448, 70.90605195])"
      ]
     },
     "execution_count": 2,
     "metadata": {},
     "output_type": "execute_result"
    }
   ],
   "source": [
    "X, y, W_default = datasets.make_regression(n_features = 10, bias=3.5, noise = 1.2, coef = True, random_state = 42)\n",
    "W_default"
   ]
  },
  {
   "cell_type": "markdown",
   "id": "3ccfd63f",
   "metadata": {},
   "source": [
    "#### Градиентный спуск"
   ]
  },
  {
   "cell_type": "code",
   "execution_count": 3,
   "id": "622af7e7",
   "metadata": {},
   "outputs": [],
   "source": [
    "y_pred_default = X @ W_default"
   ]
  },
  {
   "cell_type": "code",
   "execution_count": 4,
   "id": "f569cca3",
   "metadata": {},
   "outputs": [],
   "source": [
    "def calc_mse(y, y_pred):\n",
    "    err = np.mean((y - y_pred)**2)\n",
    "    return err"
   ]
  },
  {
   "cell_type": "code",
   "execution_count": 5,
   "id": "babb2b31",
   "metadata": {},
   "outputs": [
    {
     "data": {
      "text/plain": [
       "14.867688515340435"
      ]
     },
     "execution_count": 5,
     "metadata": {},
     "output_type": "execute_result"
    }
   ],
   "source": [
    "mse_default = calc_mse(y, y_pred_default)\n",
    "mse_default"
   ]
  },
  {
   "cell_type": "code",
   "execution_count": 6,
   "id": "08a1f4ab",
   "metadata": {},
   "outputs": [],
   "source": [
    "def my_grad(X, y, alpha=1e-4, verbose=False, tol=0.0):\n",
    "    n = X.shape[0]\n",
    "    W = np.random.randn(X.shape[1], )\n",
    "    min_err = float('inf')\n",
    "    iter_num = 0\n",
    "    stop_chek = True\n",
    "    errors = []\n",
    "    while stop_chek:\n",
    "        iter_num += 1\n",
    "        y_pred = W @ X.T\n",
    "        err = calc_mse(y, y_pred)\n",
    "        errors.append(err)\n",
    "        if min_err - err > tol:\n",
    "            min_err = err\n",
    "        else:\n",
    "            print(\n",
    "                f'iteration: {iter_num}, weights: {W}, mse: {min_err}')\n",
    "            stop_chek = False\n",
    "        W -= alpha * (1 / n * 2 * np.sum(X.T * (y_pred - y), axis=1))\n",
    "        if verbose:\n",
    "            if n_iter % 100 == 0:\n",
    "                print(iter_num, W, err)\n",
    "    return W, min_err, errors"
   ]
  },
  {
   "cell_type": "code",
   "execution_count": 7,
   "id": "5878b6fc",
   "metadata": {},
   "outputs": [
    {
     "name": "stdout",
     "output_type": "stream",
     "text": [
      "iteration: 6764, weights: [17.01872362 54.47005628  4.7542891  63.30971003 93.39786702 71.04149836\n",
      " 86.98584776 10.23648702  3.51118522 70.81221463], mse: 14.30123557199699\n"
     ]
    }
   ],
   "source": [
    "W_1, mse_1, score_1 = my_grad(X, y, alpha=0.001, tol=0.00001)"
   ]
  },
  {
   "cell_type": "markdown",
   "id": "7ebea216",
   "metadata": {},
   "source": [
    "#### Стохастический градиентный спуск"
   ]
  },
  {
   "cell_type": "code",
   "execution_count": 8,
   "id": "630f3c08",
   "metadata": {},
   "outputs": [],
   "source": [
    "def my_sgrad(X, y, alpha=1e-04, batch_size=1, n_epoch=1e+06, verbose=False, tol=0.0):\n",
    "\n",
    "    n = X.shape[0]\n",
    "    W = np.random.randn(X.shape[1], )\n",
    "    n_batch = n // batch_size\n",
    "    if n % batch_size != 0:\n",
    "        n_batch += 1\n",
    "    min_err = float('inf')\n",
    "    n_iter = 0\n",
    "    stop_chek = True\n",
    "    errors = []\n",
    "    while stop_chek:\n",
    "        n_iter += 1\n",
    "        for b in range(n_batch):\n",
    "            start_ = batch_size * b\n",
    "            end_ = batch_size * (b + 1)\n",
    "            X_tmp = X.T[:, start_: end_]\n",
    "            y_tmp = y[start_: end_]\n",
    "            y_pred = W @ X_tmp\n",
    "            err = calc_mse(y_tmp, y_pred)\n",
    "            W -= alpha * (1 / n * 2 * (y_pred - y_tmp) @ X_tmp.T)\n",
    "        errors.append(err)\n",
    "        if verbose:\n",
    "            if n_iter % 1000 == 0:\n",
    "                print(n_iter, W, err)\n",
    "        if n_iter==n_epoch:\n",
    "            print(\n",
    "                f'n_epoch: {n_iter}, weights: {W}, mse: {min_err}')\n",
    "            stop_chek = False\n",
    "        if np.abs(min_err - err) > tol:\n",
    "            min_err = err if err<=min_err else min_err\n",
    "        else:\n",
    "            print(\n",
    "                f'n_epoch: {n_iter}, weights: {W}, mse: {min_err}')\n",
    "            stop_chek = False\n",
    "        \n",
    "    return W, min_err, errors"
   ]
  },
  {
   "cell_type": "code",
   "execution_count": 9,
   "id": "57eb13f9",
   "metadata": {},
   "outputs": [
    {
     "name": "stdout",
     "output_type": "stream",
     "text": [
      "n_epoch: 5515, weights: [17.03755595 54.52388766  4.6805721  63.30912351 93.32585037 71.13380541\n",
      " 86.88651033 10.12622828  3.54149425 70.68632189], mse: 10.994698003400222\n"
     ]
    }
   ],
   "source": [
    "W_2, mse_2, score_2 = my_sgrad(X, y, alpha=0.001, batch_size=1, n_epoch=8000, tol=0.00001)"
   ]
  },
  {
   "cell_type": "code",
   "execution_count": 21,
   "id": "2a931a79",
   "metadata": {},
   "outputs": [
    {
     "data": {
      "image/png": "[encoded data removed]",
      "text/plain": [
       "<Figure size 1152x720 with 1 Axes>"
      ]
     },
     "metadata": {
      "needs_background": "light"
     },
     "output_type": "display_data"
    }
   ],
   "source": [
    "plt.figure(figsize=(16, 10))\n",
    "plt.ylim((0,3000))\n",
    "plt.xlim((0,len(score_1)-1000))\n",
    "plt.plot([x for x in range(len(score_1))], score_1, label='GD-method')\n",
    "plt.plot([x for x in range(len(score_2))], score_2, c='r', label='SGD-method')\n",
    "plt.axhline(mse_default, c='gray', ls='--', label=r'calculated indicator $MSE$', mew=0.9)\n",
    "plt.xlabel('iteratoin number')\n",
    "plt.xticks(list(plt.xticks()[0])+[len(score_1), len(score_2)])\n",
    "plt.ylabel(r'$MSE$')\n",
    "plt.legend()\n",
    "plt.show()"
   ]
  },
  {
   "cell_type": "code",
   "execution_count": 16,
   "id": "dd085f4e",
   "metadata": {},
   "outputs": [
    {
     "data": {
      "text/plain": [
       "5515"
      ]
     },
     "execution_count": 16,
     "metadata": {},
     "output_type": "execute_result"
    }
   ],
   "source": [
    "len(score_2)"
   ]
  },
  {
   "cell_type": "markdown",
   "id": "40123c8e",
   "metadata": {},
   "source": [
    "На основании графиков можно сделать вывод что примерно до 400-й итерации $SGD$ 'расходился' (значение $MSE$ росло), затем, до уроня 2200 итераций оба алгоритма сходились, при этом скорость схождения $GD$ была выше, чем у $SGD$. Однако затем скорости уравнялись, и $SGD$ сошелся раньше чем $GD$ (5515 итераций против 6764)."
   ]
  },
  {
   "cell_type": "markdown",
   "id": "3c10f32b",
   "metadata": {},
   "source": [
    "### Задание 2"
   ]
  },
  {
   "cell_type": "markdown",
   "id": "8f3c247c",
   "metadata": {},
   "source": [
    "#### Модифицировать решение первого задания путем добавления $L_{2}$-регуляризации (в функцию, считающую MSE добавить норму весов, а в поправку нужно добавить производную для нормы вектора весов по весам) и сравнить результаты."
   ]
  },
  {
   "cell_type": "code",
   "execution_count": 22,
   "id": "686e0361",
   "metadata": {},
   "outputs": [],
   "source": [
    "def euclid(vec):\n",
    "    norm=0\n",
    "    for i in vec:\n",
    "        norm+=i**2\n",
    "    return norm**0.5"
   ]
  },
  {
   "cell_type": "code",
   "execution_count": 23,
   "id": "9a56db06",
   "metadata": {},
   "outputs": [],
   "source": [
    "def my_grad_desc_reg(X, y, alpha=1e-04, verbose=False, tol=0.0, lambda_=0.0):\n",
    "\n",
    "    n = X.shape[0]\n",
    "    W = np.random.randn(X.shape[1], )  \n",
    "    min_err = float('inf') \n",
    "    n_iter = 0 \n",
    "    stop_chek = True  \n",
    "    errors = []  \n",
    "    while stop_chek:\n",
    "        n_iter += 1\n",
    "        y_pred = W @ X.T\n",
    "        err = calc_mse(y, y_pred)+lambda_*euclid(W)\n",
    "        errors.append(err)\n",
    "        if min_err - err > tol:  \n",
    "            min_err = err\n",
    "        else: \n",
    "            print(\n",
    "                f'iteration: {n_iter}, weights: {W}, mse: {min_err}')\n",
    "            stop_chek = False\n",
    "        W -= alpha * (1 / n * 2 * np.sum(X.T * (y_pred - y), axis=1))+lambda_*W\n",
    "        if verbose:\n",
    "            if n_iter % 1000 == 0:\n",
    "                print(n_iter, W, err)\n",
    "    return W, min_err, errors"
   ]
  },
  {
   "cell_type": "code",
   "execution_count": 24,
   "id": "82967903",
   "metadata": {},
   "outputs": [
    {
     "name": "stdout",
     "output_type": "stream",
     "text": [
      "iteration: 6793, weights: [17.01846703 54.46685505  4.75445302 63.30677982 93.39289052 71.0385843\n",
      " 86.98261453 10.23474703  3.51154994 70.80897092], mse: 14.301652605845172\n"
     ]
    }
   ],
   "source": [
    "W_3, mse_3, score_3 = my_grad_desc_reg(X, y, alpha=0.001, tol=0.00001, lambda_=0.0000001)"
   ]
  },
  {
   "cell_type": "code",
   "execution_count": 25,
   "id": "8683ed05",
   "metadata": {},
   "outputs": [],
   "source": [
    "def my_sgd_reg(X, y, alpha=1e-04, batch_size=1, n_epoch=1e+06, verbose=False, tol=0.0, lambda_=0.0):\n",
    "\n",
    "    n = X.shape[0]\n",
    "    W = np.random.randn(X.shape[1], )\n",
    "    n_batch = n // batch_size\n",
    "    if n % batch_size != 0:\n",
    "        n_batch += 1\n",
    "    min_err = float('inf')\n",
    "    n_iter = 0\n",
    "    stop_chek = True\n",
    "    errors = []\n",
    "    while stop_chek:\n",
    "        n_iter += 1\n",
    "        for b in range(n_batch):\n",
    "            start_ = batch_size * b\n",
    "            end_ = batch_size * (b + 1)\n",
    "            X_tmp = X.T[:, start_: end_]\n",
    "            y_tmp = y[start_: end_]\n",
    "            y_pred = W @ X_tmp\n",
    "            err = calc_mse(y_tmp, y_pred)+lambda_*euclid(W)\n",
    "            W -= alpha * (1 / n * 2 * (y_pred - y_tmp) @ X_tmp.T)+lambda_*W\n",
    "        errors.append(err)\n",
    "        if verbose:\n",
    "            if n_iter % 1000 == 0:\n",
    "                print(n_iter, W, err)\n",
    "        if n_iter==n_epoch:\n",
    "            print(\n",
    "                f'n_epoch: {n_iter}, weights: {W}, mse: {min_err}')\n",
    "            stop_chek = False\n",
    "        if np.abs(min_err - err) > tol:\n",
    "            min_err = err if err<=min_err else min_err\n",
    "        else:\n",
    "            print(\n",
    "                f'n_epoch: {n_iter}, weights: {W}, mse: {min_err}')\n",
    "            stop_chek = False\n",
    "        \n",
    "    return W, min_err, errors"
   ]
  },
  {
   "cell_type": "code",
   "execution_count": 26,
   "id": "7853b350",
   "metadata": {},
   "outputs": [
    {
     "name": "stdout",
     "output_type": "stream",
     "text": [
      "n_epoch: 5529, weights: [17.03544706 54.27187208  4.6112223  63.01552224 92.74731378 70.9535633\n",
      " 86.44814867  9.8262736   3.61353508 70.21384851], mse: 14.566307305264383\n"
     ]
    }
   ],
   "source": [
    "W_4, mse_4, score_4 = my_sgd_reg(X, y, alpha=0.001, batch_size=1, n_epoch=8000, tol=0.00001, lambda_=0.0000001)"
   ]
  },
  {
   "cell_type": "code",
   "execution_count": 29,
   "id": "8874d1c1",
   "metadata": {},
   "outputs": [
    {
     "data": {
      "text/html": [
       "<div>\n",
       "<style scoped>\n",
       "    .dataframe tbody tr th:only-of-type {\n",
       "        vertical-align: middle;\n",
       "    }\n",
       "\n",
       "    .dataframe tbody tr th {\n",
       "        vertical-align: top;\n",
       "    }\n",
       "\n",
       "    .dataframe thead th {\n",
       "        text-align: right;\n",
       "    }\n",
       "</style>\n",
       "<table border=\"1\" class=\"dataframe\">\n",
       "  <thead>\n",
       "    <tr style=\"text-align: right;\">\n",
       "      <th></th>\n",
       "      <th>methods</th>\n",
       "      <th>$\\lambda$-coeff</th>\n",
       "      <th>tol-value</th>\n",
       "      <th>iterations</th>\n",
       "      <th>err-value</th>\n",
       "    </tr>\n",
       "  </thead>\n",
       "  <tbody>\n",
       "    <tr>\n",
       "      <th>0</th>\n",
       "      <td>GD</td>\n",
       "      <td>NaN</td>\n",
       "      <td>0.00001</td>\n",
       "      <td>6764</td>\n",
       "      <td>14.301226</td>\n",
       "    </tr>\n",
       "    <tr>\n",
       "      <th>1</th>\n",
       "      <td>SGD</td>\n",
       "      <td>NaN</td>\n",
       "      <td>0.00001</td>\n",
       "      <td>5515</td>\n",
       "      <td>10.994688</td>\n",
       "    </tr>\n",
       "    <tr>\n",
       "      <th>2</th>\n",
       "      <td>GD + L2</td>\n",
       "      <td>0.001</td>\n",
       "      <td>0.00001</td>\n",
       "      <td>6793</td>\n",
       "      <td>14.301643</td>\n",
       "    </tr>\n",
       "    <tr>\n",
       "      <th>3</th>\n",
       "      <td>SGD + L2</td>\n",
       "      <td>0.001</td>\n",
       "      <td>0.00001</td>\n",
       "      <td>5529</td>\n",
       "      <td>14.566297</td>\n",
       "    </tr>\n",
       "  </tbody>\n",
       "</table>\n",
       "</div>"
      ],
      "text/plain": [
       "    methods  $\\lambda$-coeff  tol-value  iterations  err-value\n",
       "0        GD              NaN    0.00001        6764  14.301226\n",
       "1       SGD              NaN    0.00001        5515  10.994688\n",
       "2   GD + L2            0.001    0.00001        6793  14.301643\n",
       "3  SGD + L2            0.001    0.00001        5529  14.566297"
      ]
     },
     "execution_count": 29,
     "metadata": {},
     "output_type": "execute_result"
    }
   ],
   "source": [
    "df=pd.DataFrame(\n",
    "    {\n",
    "        'methods':['GD', 'SGD','GD + L2','SGD + L2'],\n",
    "        r'$\\lambda$-coeff':[None,None,0.001,0.001],\n",
    "        'tol-value': 0.00001,\n",
    "        'iterations': [len(it) for it in [score_1, score_2, score_3,score_4]],\n",
    "        'err-value': [it[-1] for it in [score_1, score_2, score_3,score_4]]\n",
    "    }\n",
    ")\n",
    "df"
   ]
  },
  {
   "cell_type": "code",
   "execution_count": 33,
   "id": "16bc26f5",
   "metadata": {},
   "outputs": [
    {
     "data": {
      "text/html": [
       "<div>\n",
       "<style scoped>\n",
       "    .dataframe tbody tr th:only-of-type {\n",
       "        vertical-align: middle;\n",
       "    }\n",
       "\n",
       "    .dataframe tbody tr th {\n",
       "        vertical-align: top;\n",
       "    }\n",
       "\n",
       "    .dataframe thead th {\n",
       "        text-align: right;\n",
       "    }\n",
       "</style>\n",
       "<table border=\"1\" class=\"dataframe\">\n",
       "  <thead>\n",
       "    <tr style=\"text-align: right;\">\n",
       "      <th></th>\n",
       "      <th>GD</th>\n",
       "      <th>SGD</th>\n",
       "      <th>GD + L2</th>\n",
       "      <th>SGD + L2</th>\n",
       "    </tr>\n",
       "  </thead>\n",
       "  <tbody>\n",
       "    <tr>\n",
       "      <th>weigt0</th>\n",
       "      <td>17.018718</td>\n",
       "      <td>17.037556</td>\n",
       "      <td>17.018461</td>\n",
       "      <td>17.035447</td>\n",
       "    </tr>\n",
       "    <tr>\n",
       "      <th>weigt1</th>\n",
       "      <td>54.470033</td>\n",
       "      <td>54.523888</td>\n",
       "      <td>54.466833</td>\n",
       "      <td>54.271872</td>\n",
       "    </tr>\n",
       "    <tr>\n",
       "      <th>weigt2</th>\n",
       "      <td>4.754319</td>\n",
       "      <td>4.680572</td>\n",
       "      <td>4.754482</td>\n",
       "      <td>4.611222</td>\n",
       "    </tr>\n",
       "    <tr>\n",
       "      <th>weigt3</th>\n",
       "      <td>63.309709</td>\n",
       "      <td>63.309124</td>\n",
       "      <td>63.306779</td>\n",
       "      <td>63.015522</td>\n",
       "    </tr>\n",
       "    <tr>\n",
       "      <th>weigt4</th>\n",
       "      <td>93.397895</td>\n",
       "      <td>93.325850</td>\n",
       "      <td>93.392918</td>\n",
       "      <td>92.747314</td>\n",
       "    </tr>\n",
       "    <tr>\n",
       "      <th>weigt5</th>\n",
       "      <td>71.041461</td>\n",
       "      <td>71.133805</td>\n",
       "      <td>71.038548</td>\n",
       "      <td>70.953563</td>\n",
       "    </tr>\n",
       "    <tr>\n",
       "      <th>weigt6</th>\n",
       "      <td>86.985888</td>\n",
       "      <td>86.886510</td>\n",
       "      <td>86.982654</td>\n",
       "      <td>86.448149</td>\n",
       "    </tr>\n",
       "    <tr>\n",
       "      <th>weigt7</th>\n",
       "      <td>10.236531</td>\n",
       "      <td>10.126228</td>\n",
       "      <td>10.234790</td>\n",
       "      <td>9.826274</td>\n",
       "    </tr>\n",
       "    <tr>\n",
       "      <th>weigt8</th>\n",
       "      <td>3.511173</td>\n",
       "      <td>3.541494</td>\n",
       "      <td>3.511539</td>\n",
       "      <td>3.613535</td>\n",
       "    </tr>\n",
       "    <tr>\n",
       "      <th>weigt9</th>\n",
       "      <td>70.812265</td>\n",
       "      <td>70.686322</td>\n",
       "      <td>70.809019</td>\n",
       "      <td>70.213849</td>\n",
       "    </tr>\n",
       "  </tbody>\n",
       "</table>\n",
       "</div>"
      ],
      "text/plain": [
       "               GD        SGD    GD + L2   SGD + L2\n",
       "weigt0  17.018718  17.037556  17.018461  17.035447\n",
       "weigt1  54.470033  54.523888  54.466833  54.271872\n",
       "weigt2   4.754319   4.680572   4.754482   4.611222\n",
       "weigt3  63.309709  63.309124  63.306779  63.015522\n",
       "weigt4  93.397895  93.325850  93.392918  92.747314\n",
       "weigt5  71.041461  71.133805  71.038548  70.953563\n",
       "weigt6  86.985888  86.886510  86.982654  86.448149\n",
       "weigt7  10.236531  10.126228  10.234790   9.826274\n",
       "weigt8   3.511173   3.541494   3.511539   3.613535\n",
       "weigt9  70.812265  70.686322  70.809019  70.213849"
      ]
     },
     "execution_count": 33,
     "metadata": {},
     "output_type": "execute_result"
    }
   ],
   "source": [
    "df2=pd.DataFrame({'GD':W_1, 'SGD':W_2,'GD + L2':W_3,'SGD + L2':W_4}, index=['weigt'+str(i) for i in range(10)])\n",
    "df2"
   ]
  },
  {
   "cell_type": "code",
   "execution_count": 31,
   "id": "fd44c88d",
   "metadata": {},
   "outputs": [
    {
     "data": {
      "image/png": "[encoded data removed]",
      "text/plain": [
       "<Figure size 1152x720 with 1 Axes>"
      ]
     },
     "metadata": {
      "needs_background": "light"
     },
     "output_type": "display_data"
    }
   ],
   "source": [
    "plt.figure(figsize=(16, 10))\n",
    "plt.ylim((0,np.max([np.max(score_2),np.max(score_4)])))\n",
    "plt.xlim((0,np.max([len(score_1), len(score_2), len(score_3), len(score_4)])-1000))\n",
    "plt.plot([x for x in range(1, len(score_1) + 1)], score_1, label='GD-method')\n",
    "plt.plot([x for x in range(1, len(score_2) + 1)], score_2, c='r', label='SGD-method')\n",
    "plt.plot([x for x in range(1, len(score_3) + 1)], score_3, label='GD-method with L2')\n",
    "plt.plot([x for x in range(1, len(score_4) + 1)], score_4, label='SGD-method with L2')\n",
    "plt.axhline(mse_default, c='gray', ls='--', label=r'calculated indicator $MSE$', mew=0.9)\n",
    "plt.xticks(list(plt.xticks()[0])+[len(score_1), len(score_2), len(score_3), len(score_4)])\n",
    "plt.xlabel('iteratoin number')\n",
    "plt.ylabel(r'$MSE$')\n",
    "plt.legend()\n",
    "plt.show()"
   ]
  },
  {
   "cell_type": "code",
   "execution_count": null,
   "id": "dc2561ff",
   "metadata": {},
   "outputs": [],
   "source": []
  }
 ],
 "metadata": {
  "kernelspec": {
   "display_name": "Python 3 (ipykernel)",
   "language": "python",
   "name": "python3"
  },
  "language_info": {
   "codemirror_mode": {
    "name": "ipython",
    "version": 3
   },
   "file_extension": ".py",
   "mimetype": "text/x-python",
   "name": "python",
   "nbconvert_exporter": "python",
   "pygments_lexer": "ipython3",
   "version": "3.9.6"
  }
 },
 "nbformat": 4,
 "nbformat_minor": 5
}
